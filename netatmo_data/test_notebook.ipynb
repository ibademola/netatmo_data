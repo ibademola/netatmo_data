{
 "cells": [
  {
   "cell_type": "code",
   "execution_count": 4,
   "metadata": {},
   "outputs": [],
   "source": [
    "import sys\n",
    "import os"
   ]
  },
  {
   "cell_type": "code",
   "execution_count": 5,
   "metadata": {},
   "outputs": [],
   "source": [
    "# Add the path to your project\n",
    "sys.path.append('C:/Users/herde/OneDrive - The Hong Kong Polytechnic University/PhD/PhD Research/Research Objectives/Objective 4/Py_Code/netatmo_data')\n"
   ]
  },
  {
   "cell_type": "code",
   "execution_count": 6,
   "metadata": {},
   "outputs": [],
   "source": [
    "from data_fetcher import get_access_token, fetch_station_ids, fetch_temperature_data"
   ]
  },
  {
   "cell_type": "code",
   "execution_count": null,
   "metadata": {},
   "outputs": [],
   "source": []
  },
  {
   "cell_type": "code",
   "execution_count": 5,
   "metadata": {},
   "outputs": [],
   "source": [
    "import requests\n",
    "import folium\n",
    "import pandas as pd\n",
    "import csv\n",
    "import requests\n",
    "import time\n",
    "from datetime import datetime"
   ]
  },
  {
   "cell_type": "code",
   "execution_count": 2,
   "metadata": {},
   "outputs": [],
   "source": [
    "client_id = \"66c2cc07a01c356ed4018397\"\n",
    "client_secret = \"HXE1L4R6LyFtxLZPCWcKv1xDyH\"\n",
    "refresh_token = \"6639b0eb66bcd29b9809e8f4|3a42c47f80dc5e128e10788a7acbaa0b\"\n",
    "lat_ne = '-26.083963'\n",
    "lon_ne = '28.14711'\n",
    "lat_sw = '-26.263'\n",
    "lon_sw = '27.92019'\n",
    "csv_file = \"JB.csv\"\n",
    "start_date_stamp = '20150101'\n",
    "start_time_stamp = '0000'\n",
    "end_date_stamp = '20201231'\n",
    "end_time_stamp = '2300'"
   ]
  },
  {
   "cell_type": "code",
   "execution_count": 6,
   "metadata": {},
   "outputs": [],
   "source": []
  },
  {
   "cell_type": "code",
   "execution_count": 8,
   "metadata": {},
   "outputs": [],
   "source": [
    "from data_fetcher import fetch_temperature_data"
   ]
  },
  {
   "cell_type": "code",
   "execution_count": 9,
   "metadata": {},
   "outputs": [
    {
     "ename": "IndexError",
     "evalue": "list index out of range",
     "output_type": "error",
     "traceback": [
      "\u001b[1;31m---------------------------------------------------------------------------\u001b[0m",
      "\u001b[1;31mIndexError\u001b[0m                                Traceback (most recent call last)",
      "Cell \u001b[1;32mIn[9], line 1\u001b[0m\n\u001b[1;32m----> 1\u001b[0m \u001b[43mfetch_temperature_data\u001b[49m\u001b[43m(\u001b[49m\u001b[43mclient_id\u001b[49m\u001b[43m,\u001b[49m\u001b[43m \u001b[49m\u001b[43mclient_secret\u001b[49m\u001b[43m,\u001b[49m\u001b[43m \u001b[49m\u001b[43mrefresh_token\u001b[49m\u001b[43m,\u001b[49m\u001b[43m \u001b[49m\u001b[43mcsv_file\u001b[49m\u001b[43m,\u001b[49m\u001b[43m \u001b[49m\u001b[43mstart_date_stamp\u001b[49m\u001b[43m,\u001b[49m\u001b[43m \u001b[49m\u001b[43mstart_time_stamp\u001b[49m\u001b[43m,\u001b[49m\u001b[43m \u001b[49m\u001b[43mend_date_stamp\u001b[49m\u001b[43m,\u001b[49m\u001b[43m \u001b[49m\u001b[43mend_time_stamp\u001b[49m\u001b[43m)\u001b[49m\n",
      "File \u001b[1;32mc:\\Users\\herde\\OneDrive - The Hong Kong Polytechnic University\\PhD\\PhD Research\\Research Objectives\\Objective 4\\Py_Code\\netatmo_data\\netatmo_data\\data_fetcher.py:36\u001b[0m, in \u001b[0;36mfetch_temperature_data\u001b[1;34m(client_id, client_secret, refresh_token, csv_file, start_date_stamp, start_time_stamp, end_date_stamp, end_time_stamp)\u001b[0m\n\u001b[0;32m     33\u001b[0m limit \u001b[38;5;241m=\u001b[39m \u001b[38;5;241m1024\u001b[39m\n\u001b[0;32m     35\u001b[0m \u001b[38;5;66;03m# Fetch historical measurements for the current device ID and module ID pair\u001b[39;00m\n\u001b[1;32m---> 36\u001b[0m measurements \u001b[38;5;241m=\u001b[39m \u001b[43mget_historical_measurements_batch\u001b[49m\u001b[43m(\u001b[49m\u001b[43maccess_token\u001b[49m\u001b[43m,\u001b[49m\u001b[43m \u001b[49m\u001b[43mdevice_id\u001b[49m\u001b[43m,\u001b[49m\u001b[43m \u001b[49m\u001b[43mmodule_id\u001b[49m\u001b[43m,\u001b[49m\u001b[43m \u001b[49m\u001b[43mscale\u001b[49m\u001b[43m,\u001b[49m\u001b[43m \u001b[49m\u001b[43mtypes\u001b[49m\u001b[43m,\u001b[49m\u001b[43m \u001b[49m\u001b[43mdate_begin\u001b[49m\u001b[43m,\u001b[49m\u001b[43m \u001b[49m\u001b[43mdate_end\u001b[49m\u001b[43m,\u001b[49m\u001b[43m \u001b[49m\u001b[43mlimit\u001b[49m\u001b[43m)\u001b[49m\n\u001b[0;32m     37\u001b[0m \u001b[38;5;28mprint\u001b[39m(\u001b[38;5;124mf\u001b[39m\u001b[38;5;124m'\u001b[39m\u001b[38;5;124m--------Temperature data for \u001b[39m\u001b[38;5;132;01m{\u001b[39;00mdevice_id\u001b[38;5;132;01m}\u001b[39;00m\u001b[38;5;124m, \u001b[39m\u001b[38;5;132;01m{\u001b[39;00mmodule_id\u001b[38;5;132;01m}\u001b[39;00m\u001b[38;5;124m completely downloaded----------\u001b[39m\u001b[38;5;124m'\u001b[39m)\n",
      "File \u001b[1;32mC:\\Users/herde/OneDrive - The Hong Kong Polytechnic University/PhD/PhD Research/Research Objectives/Objective 4/Py_Code/netatmo_data\\netatmo_data\\utility.py:199\u001b[0m, in \u001b[0;36mget_historical_measurements_batch\u001b[1;34m(access_token, device_id, module_id, scale, types, date_begin, date_end, limit)\u001b[0m\n\u001b[0;32m    195\u001b[0m date_begin \u001b[38;5;241m=\u001b[39m last_timestamp \u001b[38;5;241m+\u001b[39m \u001b[38;5;241m86400\u001b[39m\n\u001b[0;32m    196\u001b[0m \u001b[38;5;66;03m# date_begin = last_timestamp + measurements[\"body\"][-1][\"step_time\"]\u001b[39;00m\n\u001b[0;32m    197\u001b[0m \n\u001b[0;32m    198\u001b[0m \u001b[38;5;66;03m# Save measurements to CSV file\u001b[39;00m\n\u001b[1;32m--> 199\u001b[0m \u001b[43msave_measurements_to_csv\u001b[49m\u001b[43m(\u001b[49m\u001b[43mmeasurements\u001b[49m\u001b[43m,\u001b[49m\u001b[43m \u001b[49m\u001b[43mdevice_id\u001b[49m\u001b[43m,\u001b[49m\u001b[43m \u001b[49m\u001b[43mmodule_id\u001b[49m\u001b[43m)\u001b[49m\n\u001b[0;32m    201\u001b[0m \u001b[38;5;66;03m# Introduce a delay to avoid hitting rate limits\u001b[39;00m\n\u001b[0;32m    202\u001b[0m time\u001b[38;5;241m.\u001b[39msleep(\u001b[38;5;241m1\u001b[39m)\n",
      "File \u001b[1;32mC:\\Users/herde/OneDrive - The Hong Kong Polytechnic University/PhD/PhD Research/Research Objectives/Objective 4/Py_Code/netatmo_data\\netatmo_data\\utility.py:173\u001b[0m, in \u001b[0;36msave_measurements_to_csv\u001b[1;34m(measurements, device_id, module_id)\u001b[0m\n\u001b[0;32m    168\u001b[0m \u001b[38;5;28;01mfor\u001b[39;00m entry \u001b[38;5;129;01min\u001b[39;00m measurements[\u001b[38;5;124m'\u001b[39m\u001b[38;5;124mbody\u001b[39m\u001b[38;5;124m'\u001b[39m]:\n\u001b[0;32m    169\u001b[0m     \u001b[38;5;28;01mfor\u001b[39;00m value \u001b[38;5;129;01min\u001b[39;00m entry[\u001b[38;5;124m'\u001b[39m\u001b[38;5;124mvalue\u001b[39m\u001b[38;5;124m'\u001b[39m]:\n\u001b[0;32m    170\u001b[0m         row \u001b[38;5;241m=\u001b[39m {\n\u001b[0;32m    171\u001b[0m             \u001b[38;5;124m'\u001b[39m\u001b[38;5;124macquisition_time\u001b[39m\u001b[38;5;124m'\u001b[39m: datetime\u001b[38;5;241m.\u001b[39mutcfromtimestamp(acquisition_time)\u001b[38;5;241m.\u001b[39mstrftime(\u001b[38;5;124m'\u001b[39m\u001b[38;5;124m%\u001b[39m\u001b[38;5;124mY\u001b[39m\u001b[38;5;124m%\u001b[39m\u001b[38;5;124mm\u001b[39m\u001b[38;5;132;01m%d\u001b[39;00m\u001b[38;5;124m%\u001b[39m\u001b[38;5;124mH\u001b[39m\u001b[38;5;124m%\u001b[39m\u001b[38;5;124mM\u001b[39m\u001b[38;5;124m'\u001b[39m),\n\u001b[0;32m    172\u001b[0m             \u001b[38;5;124m'\u001b[39m\u001b[38;5;124mtemperature\u001b[39m\u001b[38;5;124m'\u001b[39m: value[\u001b[38;5;241m0\u001b[39m],\n\u001b[1;32m--> 173\u001b[0m             \u001b[38;5;124m'\u001b[39m\u001b[38;5;124mhumidity\u001b[39m\u001b[38;5;124m'\u001b[39m: \u001b[43mvalue\u001b[49m\u001b[43m[\u001b[49m\u001b[38;5;241;43m1\u001b[39;49m\u001b[43m]\u001b[49m,\n\u001b[0;32m    174\u001b[0m             \u001b[38;5;124m'\u001b[39m\u001b[38;5;124mpressure\u001b[39m\u001b[38;5;124m'\u001b[39m: value[\u001b[38;5;241m2\u001b[39m]\n\u001b[0;32m    175\u001b[0m         }\n\u001b[0;32m    176\u001b[0m         writer\u001b[38;5;241m.\u001b[39mwriterow(row)\n\u001b[0;32m    177\u001b[0m         acquisition_time \u001b[38;5;241m+\u001b[39m\u001b[38;5;241m=\u001b[39m step_time\n",
      "\u001b[1;31mIndexError\u001b[0m: list index out of range"
     ]
    }
   ],
   "source": [
    "fetch_temperature_data(client_id, client_secret, refresh_token, csv_file, start_date_stamp, start_time_stamp, end_date_stamp, end_time_stamp)"
   ]
  },
  {
   "cell_type": "code",
   "execution_count": 8,
   "metadata": {},
   "outputs": [
    {
     "ename": "ValueError",
     "evalue": "could not convert string to float: ''",
     "output_type": "error",
     "traceback": [
      "\u001b[1;31m---------------------------------------------------------------------------\u001b[0m",
      "\u001b[1;31mValueError\u001b[0m                                Traceback (most recent call last)",
      "Cell \u001b[1;32mIn[8], line 1\u001b[0m\n\u001b[1;32m----> 1\u001b[0m \u001b[38;5;28;01mfrom\u001b[39;00m \u001b[38;5;21;01mdata_fetcher\u001b[39;00m \u001b[38;5;28;01mimport\u001b[39;00m fetch_station_ids\n",
      "File \u001b[1;32mc:\\Users\\herde\\OneDrive - The Hong Kong Polytechnic University\\PhD\\PhD Research\\Research Objectives\\Objective 4\\Py_Code\\netatmo_data\\netatmo_data\\data_fetcher.py:17\u001b[0m\n\u001b[0;32m     12\u001b[0m start_time \u001b[38;5;241m=\u001b[39m time\u001b[38;5;241m.\u001b[39mtime()\n\u001b[0;32m     14\u001b[0m \u001b[38;5;66;03m# Get user inputs\u001b[39;00m\n\u001b[0;32m     15\u001b[0m (lat_ne, lon_ne, lat_sw, lon_sw, start_date_stamp, start_time_stamp,\n\u001b[0;32m     16\u001b[0m  end_date_stamp, end_time_stamp, csv_file, client_id, client_secret,\n\u001b[1;32m---> 17\u001b[0m  refresh_token) \u001b[38;5;241m=\u001b[39m \u001b[43mget_user_inputs\u001b[49m\u001b[43m(\u001b[49m\u001b[43m)\u001b[49m\n\u001b[0;32m     19\u001b[0m \u001b[38;5;28;01mdef\u001b[39;00m \u001b[38;5;21mget_user_inputs\u001b[39m():\n\u001b[0;32m     20\u001b[0m     \u001b[38;5;66;03m# Accept user inputs for various parameters\u001b[39;00m\n\u001b[0;32m     21\u001b[0m     lat_ne \u001b[38;5;241m=\u001b[39m \u001b[38;5;28mfloat\u001b[39m(\u001b[38;5;28minput\u001b[39m(\u001b[38;5;124m\"\u001b[39m\u001b[38;5;124mEnter lat_ne: \u001b[39m\u001b[38;5;124m\"\u001b[39m))\n",
      "File \u001b[1;32mc:\\Users\\herde\\OneDrive - The Hong Kong Polytechnic University\\PhD\\PhD Research\\Research Objectives\\Objective 4\\Py_Code\\netatmo_data\\netatmo_data\\input_handler.py:3\u001b[0m, in \u001b[0;36mget_user_inputs\u001b[1;34m()\u001b[0m\n\u001b[0;32m      1\u001b[0m \u001b[38;5;28;01mdef\u001b[39;00m \u001b[38;5;21mget_user_inputs\u001b[39m():\n\u001b[0;32m      2\u001b[0m     \u001b[38;5;66;03m# Accept user inputs for various parameters\u001b[39;00m\n\u001b[1;32m----> 3\u001b[0m     lat_ne \u001b[38;5;241m=\u001b[39m \u001b[38;5;28;43mfloat\u001b[39;49m\u001b[43m(\u001b[49m\u001b[38;5;28;43minput\u001b[39;49m\u001b[43m(\u001b[49m\u001b[38;5;124;43m\"\u001b[39;49m\u001b[38;5;124;43mEnter lat_ne: \u001b[39;49m\u001b[38;5;124;43m\"\u001b[39;49m\u001b[43m)\u001b[49m\u001b[43m)\u001b[49m\n\u001b[0;32m      4\u001b[0m     lon_ne \u001b[38;5;241m=\u001b[39m \u001b[38;5;28mfloat\u001b[39m(\u001b[38;5;28minput\u001b[39m(\u001b[38;5;124m\"\u001b[39m\u001b[38;5;124mEnter lon_ne: \u001b[39m\u001b[38;5;124m\"\u001b[39m))\n\u001b[0;32m      5\u001b[0m     lat_sw \u001b[38;5;241m=\u001b[39m \u001b[38;5;28mfloat\u001b[39m(\u001b[38;5;28minput\u001b[39m(\u001b[38;5;124m\"\u001b[39m\u001b[38;5;124mEnter lat_sw: \u001b[39m\u001b[38;5;124m\"\u001b[39m))\n",
      "\u001b[1;31mValueError\u001b[0m: could not convert string to float: ''"
     ]
    }
   ],
   "source": [
    "from data_fetcher import fetch_station_ids"
   ]
  },
  {
   "cell_type": "code",
   "execution_count": 8,
   "metadata": {},
   "outputs": [
    {
     "ename": "NameError",
     "evalue": "name 'fetch_station_ids' is not defined",
     "output_type": "error",
     "traceback": [
      "\u001b[1;31m---------------------------------------------------------------------------\u001b[0m",
      "\u001b[1;31mNameError\u001b[0m                                 Traceback (most recent call last)",
      "Cell \u001b[1;32mIn[8], line 1\u001b[0m\n\u001b[1;32m----> 1\u001b[0m jjb \u001b[38;5;241m=\u001b[39m \u001b[43mfetch_station_ids\u001b[49m(client_id, \n\u001b[0;32m      2\u001b[0m                         client_secret, \n\u001b[0;32m      3\u001b[0m                         refresh_token, \n\u001b[0;32m      4\u001b[0m                         lat_ne, lon_ne, \n\u001b[0;32m      5\u001b[0m                         lat_sw, \n\u001b[0;32m      6\u001b[0m                         lon_sw, \n\u001b[0;32m      7\u001b[0m                         csv_file)\n",
      "\u001b[1;31mNameError\u001b[0m: name 'fetch_station_ids' is not defined"
     ]
    }
   ],
   "source": [
    "jjb = fetch_station_ids(client_id, \n",
    "                        client_secret, \n",
    "                        refresh_token, \n",
    "                        lat_ne, lon_ne, \n",
    "                        lat_sw, \n",
    "                        lon_sw, \n",
    "                        csv_file)"
   ]
  },
  {
   "cell_type": "code",
   "execution_count": 9,
   "metadata": {},
   "outputs": [],
   "source": [
    "file_path = \"JB.csv\"\n",
    "stations_df = pd.read_csv(file_path)\n",
    "\n",
    "# Assuming your CSV file has columns: 'station_id', 'latitude', 'longitude', 'city'\n",
    "# Adjust the column names according to your CSV file's structure\n",
    "# stations_df.columns = ['station_id', 'latitude', 'longitude', 'city']\n",
    "stations_df.columns = ['MAC_address','module_name','latitude','longitude','altitude','city','full_modules']\n"
   ]
  },
  {
   "cell_type": "code",
   "execution_count": 10,
   "metadata": {},
   "outputs": [],
   "source": [
    "# Step 2.2: Initialize a folium map centered on an average location\n",
    "center_lat = stations_df['longitude'].mean()\n",
    "center_lon = stations_df['latitude'].mean()\n",
    "m = folium.Map(location=[center_lat, center_lon], zoom_start=10)"
   ]
  },
  {
   "cell_type": "code",
   "execution_count": 7,
   "metadata": {},
   "outputs": [
    {
     "ename": "NameError",
     "evalue": "name 'stations_df' is not defined",
     "output_type": "error",
     "traceback": [
      "\u001b[1;31m---------------------------------------------------------------------------\u001b[0m",
      "\u001b[1;31mNameError\u001b[0m                                 Traceback (most recent call last)",
      "Cell \u001b[1;32mIn[7], line 2\u001b[0m\n\u001b[0;32m      1\u001b[0m \u001b[38;5;66;03m# Step 2.3: Add markers for each station\u001b[39;00m\n\u001b[1;32m----> 2\u001b[0m \u001b[38;5;28;01mfor\u001b[39;00m _, row \u001b[38;5;129;01min\u001b[39;00m \u001b[43mstations_df\u001b[49m\u001b[38;5;241m.\u001b[39miterrows():\n\u001b[0;32m      3\u001b[0m     folium\u001b[38;5;241m.\u001b[39mMarker(\n\u001b[0;32m      4\u001b[0m         location\u001b[38;5;241m=\u001b[39m[row[\u001b[38;5;124m'\u001b[39m\u001b[38;5;124mlongitude\u001b[39m\u001b[38;5;124m'\u001b[39m], row[\u001b[38;5;124m'\u001b[39m\u001b[38;5;124mlatitude\u001b[39m\u001b[38;5;124m'\u001b[39m]],\n\u001b[0;32m      5\u001b[0m         popup\u001b[38;5;241m=\u001b[39m\u001b[38;5;124mf\u001b[39m\u001b[38;5;124m\"\u001b[39m\u001b[38;5;124mStation ID: \u001b[39m\u001b[38;5;132;01m{\u001b[39;00mrow[\u001b[38;5;124m'\u001b[39m\u001b[38;5;124mMAC_address\u001b[39m\u001b[38;5;124m'\u001b[39m]\u001b[38;5;132;01m}\u001b[39;00m\u001b[38;5;130;01m\\n\u001b[39;00m\u001b[38;5;124mCity: \u001b[39m\u001b[38;5;132;01m{\u001b[39;00mrow[\u001b[38;5;124m'\u001b[39m\u001b[38;5;124mcity\u001b[39m\u001b[38;5;124m'\u001b[39m]\u001b[38;5;132;01m}\u001b[39;00m\u001b[38;5;124m\"\u001b[39m,\n\u001b[0;32m      6\u001b[0m         icon\u001b[38;5;241m=\u001b[39mfolium\u001b[38;5;241m.\u001b[39mIcon(icon\u001b[38;5;241m=\u001b[39m\u001b[38;5;124m\"\u001b[39m\u001b[38;5;124mcloud\u001b[39m\u001b[38;5;124m\"\u001b[39m),\n\u001b[0;32m      7\u001b[0m     )\u001b[38;5;241m.\u001b[39madd_to(m)\n\u001b[0;32m      9\u001b[0m \u001b[38;5;66;03m# Step 2.4: Save the map as an HTML file and display it\u001b[39;00m\n",
      "\u001b[1;31mNameError\u001b[0m: name 'stations_df' is not defined"
     ]
    }
   ],
   "source": [
    "# Step 2.3: Add markers for each station\n",
    "for _, row in stations_df.iterrows():\n",
    "    folium.Marker(\n",
    "        location=[row['longitude'], row['latitude']],\n",
    "        popup=f\"Station ID: {row['MAC_address']}\\nCity: {row['city']}\",\n",
    "        icon=folium.Icon(icon=\"cloud\"),\n",
    "    ).add_to(m)\n",
    "\n",
    "# Step 2.4: Save the map as an HTML file and display it\n",
    "m.save('stations_map.html')\n",
    "m"
   ]
  },
  {
   "cell_type": "code",
   "execution_count": 9,
   "metadata": {},
   "outputs": [],
   "source": [
    "from data_fetcher import fetch_temperature_data"
   ]
  },
  {
   "cell_type": "code",
   "execution_count": 14,
   "metadata": {},
   "outputs": [],
   "source": [
    "def get_access_token(client_id, client_secret, refresh_token):\n",
    "    # URL for token endpoint\n",
    "    token_url = \"https://api.netatmo.com/oauth2/token\"\n",
    "\n",
    "    # Parameters for token request\n",
    "    params = {\n",
    "        \"grant_type\": \"refresh_token\",\n",
    "        \"refresh_token\": refresh_token,\n",
    "        \"client_id\": client_id,\n",
    "        \"client_secret\": client_secret\n",
    "    }\n",
    "\n",
    "    # Send POST request to get access token\n",
    "    response = requests.post(token_url, data=params)\n",
    "\n",
    "    # Check if request was successful\n",
    "    if response.status_code == 200:\n",
    "        # Parse JSON response\n",
    "        token_data = response.json()\n",
    "        # Access token\n",
    "        access_token = token_data[\"access_token\"]\n",
    "        return access_token\n",
    "    else:\n",
    "        print(\"Error:\", response.status_code, response.text)\n",
    "        return None"
   ]
  },
  {
   "cell_type": "code",
   "execution_count": 22,
   "metadata": {},
   "outputs": [],
   "source": [
    "refresh_token = \"6639b0eb66bcd29b9809e8f4|6799da1af4b1cbf7e43f5cbd2fb09b36\""
   ]
  },
  {
   "cell_type": "code",
   "execution_count": 23,
   "metadata": {},
   "outputs": [
    {
     "name": "stdout",
     "output_type": "stream",
     "text": [
      "Unexpected exception formatting exception. Falling back to standard exception\n"
     ]
    },
    {
     "name": "stderr",
     "output_type": "stream",
     "text": [
      "Traceback (most recent call last):\n",
      "  File \"c:\\Users\\herde\\anaconda3\\envs\\geo\\lib\\site-packages\\IPython\\core\\interactiveshell.py\", line 3526, in run_code\n",
      "    exec(code_obj, self.user_global_ns, self.user_ns)\n",
      "  File \"C:\\Users\\herde\\AppData\\Local\\Temp\\ipykernel_20964\\4166449201.py\", line 1, in <module>\n",
      "    fetch_temperature_data(client_id, client_secret, refresh_token, csv_file, start_date_stamp, start_time_stamp, end_date_stamp, end_time_stamp)\n",
      "  File \"c:\\Users\\herde\\OneDrive - The Hong Kong Polytechnic University\\PhD\\PhD Research\\Research Objectives\\Objective 4\\Py_Code\\netatmo_data\\netatmo_data\\data_fetcher.py\", line 47, in fetch_temperature_data\n",
      "  File \"C:\\Users/herde/OneDrive - The Hong Kong Polytechnic University/PhD/PhD Research/Research Objectives/Objective 4/Py_Code/netatmo_data\\netatmo_data\\utility.py\", line 199, in get_historical_measurements_batch\n",
      "    save_measurements_to_csv(measurements, device_id, module_id)\n",
      "  File \"C:\\Users/herde/OneDrive - The Hong Kong Polytechnic University/PhD/PhD Research/Research Objectives/Objective 4/Py_Code/netatmo_data\\netatmo_data\\utility.py\", line 173, in save_measurements_to_csv\n",
      "    'humidity': value[1],\n",
      "IndexError: list index out of range\n",
      "\n",
      "During handling of the above exception, another exception occurred:\n",
      "\n",
      "Traceback (most recent call last):\n",
      "  File \"c:\\Users\\herde\\anaconda3\\envs\\geo\\lib\\site-packages\\IPython\\core\\interactiveshell.py\", line 2120, in showtraceback\n",
      "    stb = self.InteractiveTB.structured_traceback(\n",
      "  File \"c:\\Users\\herde\\anaconda3\\envs\\geo\\lib\\site-packages\\IPython\\core\\ultratb.py\", line 1435, in structured_traceback\n",
      "    return FormattedTB.structured_traceback(\n",
      "  File \"c:\\Users\\herde\\anaconda3\\envs\\geo\\lib\\site-packages\\IPython\\core\\ultratb.py\", line 1326, in structured_traceback\n",
      "    return VerboseTB.structured_traceback(\n",
      "  File \"c:\\Users\\herde\\anaconda3\\envs\\geo\\lib\\site-packages\\IPython\\core\\ultratb.py\", line 1173, in structured_traceback\n",
      "    formatted_exception = self.format_exception_as_a_whole(etype, evalue, etb, number_of_lines_of_context,\n",
      "  File \"c:\\Users\\herde\\anaconda3\\envs\\geo\\lib\\site-packages\\IPython\\core\\ultratb.py\", line 1088, in format_exception_as_a_whole\n",
      "    frames.append(self.format_record(record))\n",
      "  File \"c:\\Users\\herde\\anaconda3\\envs\\geo\\lib\\site-packages\\IPython\\core\\ultratb.py\", line 970, in format_record\n",
      "    frame_info.lines, Colors, self.has_colors, lvals\n",
      "  File \"c:\\Users\\herde\\anaconda3\\envs\\geo\\lib\\site-packages\\IPython\\core\\ultratb.py\", line 792, in lines\n",
      "    return self._sd.lines\n",
      "  File \"c:\\Users\\herde\\anaconda3\\envs\\geo\\lib\\site-packages\\stack_data\\utils.py\", line 145, in cached_property_wrapper\n",
      "    value = obj.__dict__[self.func.__name__] = self.func(obj)\n",
      "  File \"c:\\Users\\herde\\anaconda3\\envs\\geo\\lib\\site-packages\\stack_data\\core.py\", line 698, in lines\n",
      "    pieces = self.included_pieces\n",
      "  File \"c:\\Users\\herde\\anaconda3\\envs\\geo\\lib\\site-packages\\stack_data\\utils.py\", line 145, in cached_property_wrapper\n",
      "    value = obj.__dict__[self.func.__name__] = self.func(obj)\n",
      "  File \"c:\\Users\\herde\\anaconda3\\envs\\geo\\lib\\site-packages\\stack_data\\core.py\", line 649, in included_pieces\n",
      "    pos = scope_pieces.index(self.executing_piece)\n",
      "  File \"c:\\Users\\herde\\anaconda3\\envs\\geo\\lib\\site-packages\\stack_data\\utils.py\", line 145, in cached_property_wrapper\n",
      "    value = obj.__dict__[self.func.__name__] = self.func(obj)\n",
      "  File \"c:\\Users\\herde\\anaconda3\\envs\\geo\\lib\\site-packages\\stack_data\\core.py\", line 628, in executing_piece\n",
      "    return only(\n",
      "  File \"c:\\Users\\herde\\anaconda3\\envs\\geo\\lib\\site-packages\\executing\\executing.py\", line 164, in only\n",
      "    raise NotOneValueFound('Expected one value, found 0')\n",
      "executing.executing.NotOneValueFound: Expected one value, found 0\n"
     ]
    }
   ],
   "source": [
    "fetch_temperature_data(client_id, client_secret, refresh_token, csv_file, start_date_stamp, start_time_stamp, end_date_stamp, end_time_stamp)"
   ]
  },
  {
   "cell_type": "code",
   "execution_count": 23,
   "metadata": {},
   "outputs": [],
   "source": [
    "def load_device_and_module_ids_from_csv(csv_file):\n",
    "    device_module_ids = []\n",
    "    with open(csv_file, mode='r', newline='', encoding='utf-8') as file:\n",
    "        reader = csv.reader(file)\n",
    "        next(reader)  # Skip the header row\n",
    "        for row in reader:\n",
    "            device_id = row[0]\n",
    "            module_id = row[1].strip(\"[]'\")  # Remove square brackets and single quotes\n",
    "            device_module_ids.append((device_id, module_id))\n",
    "    return device_module_ids"
   ]
  },
  {
   "cell_type": "code",
   "execution_count": 26,
   "metadata": {},
   "outputs": [],
   "source": [
    "device_module_ids = load_device_and_module_ids_from_csv(csv_file)"
   ]
  },
  {
   "cell_type": "code",
   "execution_count": 27,
   "metadata": {},
   "outputs": [
    {
     "data": {
      "text/plain": [
       "[('70:ee:50:06:8f:36', '02:00:00:06:9d:c0'),\n",
       " ('70:ee:50:1b:2a:2a', '02:00:00:1b:0c:16'),\n",
       " ('70:ee:50:17:d3:e0', '02:00:00:17:5e:00'),\n",
       " ('70:ee:50:6b:6c:26', '02:00:00:6b:2f:f6'),\n",
       " ('70:ee:50:6b:73:18', '02:00:00:6b:35:5e'),\n",
       " ('70:ee:50:64:02:5a', '02:00:00:63:fc:0c'),\n",
       " ('70:ee:50:7f:9e:64', '02:00:00:7f:8d:32'),\n",
       " ('70:ee:50:83:f3:fc', '02:00:00:83:f5:42'),\n",
       " ('70:ee:50:05:e1:e6', '02:00:00:12:f7:8e'),\n",
       " ('70:ee:50:65:11:fa', '02:00:00:65:31:0c'),\n",
       " ('70:ee:50:7a:70:f0', '02:00:00:7a:b0:02'),\n",
       " ('70:ee:50:01:6b:5e', '02:00:00:01:6c:74'),\n",
       " ('70:ee:50:39:f8:10', '02:00:00:3a:03:a2'),\n",
       " ('70:ee:50:13:24:5e', '02:00:00:12:f5:c6'),\n",
       " ('70:ee:50:00:2a:96', '02:00:00:00:2a:e8'),\n",
       " ('70:ee:50:6b:68:d2', '02:00:00:6b:38:0e'),\n",
       " ('70:ee:50:05:e0:82', '02:00:00:05:3f:c8'),\n",
       " ('70:ee:50:1e:20:06', '02:00:00:1e:04:78'),\n",
       " ('70:ee:50:6b:67:e6', '02:00:00:6b:39:a4'),\n",
       " ('70:ee:50:64:f5:26', '02:00:00:65:25:28'),\n",
       " ('70:ee:50:74:20:a4', '02:00:00:74:26:58'),\n",
       " ('70:ee:50:22:e6:74', '02:00:00:22:d5:02'),\n",
       " ('70:ee:50:37:10:9c', '02:00:00:3a:3b:e8'),\n",
       " ('70:ee:50:83:e9:74', '02:00:00:84:08:58'),\n",
       " ('70:ee:50:02:67:9a', '02:00:00:02:67:b0'),\n",
       " ('70:ee:50:06:ae:be', '02:00:00:05:cd:bc'),\n",
       " ('70:ee:50:13:27:56', '02:00:00:12:f6:d4')]"
      ]
     },
     "execution_count": 27,
     "metadata": {},
     "output_type": "execute_result"
    }
   ],
   "source": [
    "device_module_ids"
   ]
  },
  {
   "cell_type": "code",
   "execution_count": 35,
   "metadata": {},
   "outputs": [],
   "source": [
    "client_id = \"66c2cc07a01c356ed4018397\"\n",
    "client_secret = \"HXE1L4R6LyFtxLZPCWcKv1xDyH\"\n",
    "refresh_token = \"6639b0eb66bcd29b9809e8f4|981e4675410840cfccb4d3c72bd300b2\""
   ]
  },
  {
   "cell_type": "code",
   "execution_count": 28,
   "metadata": {},
   "outputs": [],
   "source": [
    "def convert_to_unix_timestamp(date_string, time_string):\n",
    "    try:\n",
    "        # Parse the date and time strings\n",
    "        date_obj = datetime.strptime(date_string, '%Y%m%d')\n",
    "        time_obj = datetime.strptime(time_string, '%H%M')\n",
    "        \n",
    "        # Combine date and time\n",
    "        datetime_obj = datetime(date_obj.year, date_obj.month, date_obj.day, time_obj.hour, time_obj.minute)\n",
    "        \n",
    "        # Convert to UNIX timestamp\n",
    "        timestamp = int(datetime_obj.timestamp())\n",
    "        return timestamp\n",
    "    except ValueError:\n",
    "        print(\"Error: Invalid input format. Please provide date in 'yyyymmdd' and time in 'hhmm' format.\")\n",
    "        return None"
   ]
  },
  {
   "cell_type": "code",
   "execution_count": 36,
   "metadata": {},
   "outputs": [],
   "source": [
    "def get_historical_measurements(access_token, device_id, module_id, scale, types, date_begin, date_end, limit=1024):\n",
    "    url = \"https://api.netatmo.net/api/getmeasure\"\n",
    "    \n",
    "    params = {\n",
    "        'access_token': access_token,\n",
    "        'device_id': device_id,\n",
    "        'module_id': module_id,\n",
    "        'scale': scale,\n",
    "        'type': types,\n",
    "        'date_begin': date_begin,\n",
    "        'date_end': date_end,\n",
    "        'limit': limit\n",
    "    }\n",
    "\n",
    "    response = requests.get(url, params=params)\n",
    "\n",
    "    if response.status_code == 200:\n",
    "        return response.json()\n",
    "    else:\n",
    "        return None"
   ]
  },
  {
   "cell_type": "code",
   "execution_count": 31,
   "metadata": {},
   "outputs": [],
   "source": [
    "def get_historical_measurements_batch(access_token, device_id, module_id, scale, types, date_begin, date_end, limit=1024):\n",
    "    all_measurements = []\n",
    "\n",
    "    while date_begin < date_end:\n",
    "        measurements = get_historical_measurements(access_token, device_id, module_id, scale, types, date_begin, date_end, limit)\n",
    "        if measurements is None or \"body\" not in measurements or not measurements[\"body\"]:\n",
    "            # No more data available or an error occurred, stop the loop\n",
    "            break\n",
    "\n",
    "        # Extract the last timestamp from the received data\n",
    "        last_timestamp = measurements[\"body\"][-1][\"beg_time\"]\n",
    "        \n",
    "        # Append the measurements to the list\n",
    "        all_measurements.extend(measurements[\"body\"])\n",
    "\n",
    "        # Update date_begin to fetch the next batch of data\n",
    "        date_begin = last_timestamp + 86400\n",
    "        # date_begin = last_timestamp + measurements[\"body\"][-1][\"step_time\"]\n",
    "\n",
    "        # Save measurements to CSV file\n",
    "        save_measurements_to_csv(measurements, device_id, module_id)\n",
    "\n",
    "        # Introduce a delay to avoid hitting rate limits\n",
    "        time.sleep(1)\n",
    "\n",
    "    return all_measurements"
   ]
  },
  {
   "cell_type": "code",
   "execution_count": 37,
   "metadata": {},
   "outputs": [],
   "source": [
    "def get_access_token(client_id, client_secret, refresh_token):\n",
    "    # URL for token endpoint\n",
    "    token_url = \"https://api.netatmo.com/oauth2/token\"\n",
    "\n",
    "    # Parameters for token request\n",
    "    params = {\n",
    "        \"grant_type\": \"refresh_token\",\n",
    "        \"refresh_token\": refresh_token,\n",
    "        \"client_id\": client_id,\n",
    "        \"client_secret\": client_secret\n",
    "    }\n",
    "\n",
    "    # Send POST request to get access token\n",
    "    response = requests.post(token_url, data=params)\n",
    "\n",
    "    # Check if request was successful\n",
    "    if response.status_code == 200:\n",
    "        # Parse JSON response\n",
    "        token_data = response.json()\n",
    "        # Access token\n",
    "        access_token = token_data[\"access_token\"]\n",
    "        return access_token\n",
    "    else:\n",
    "        print(\"Error:\", response.status_code, response.text)\n",
    "        return None"
   ]
  },
  {
   "cell_type": "code",
   "execution_count": 38,
   "metadata": {},
   "outputs": [],
   "source": [
    "# Get access token\n",
    "access_token = get_access_token(client_id, client_secret, refresh_token)"
   ]
  },
  {
   "cell_type": "code",
   "execution_count": 19,
   "metadata": {},
   "outputs": [
    {
     "ename": "NameError",
     "evalue": "name 'access_token' is not defined",
     "output_type": "error",
     "traceback": [
      "\u001b[1;31m---------------------------------------------------------------------------\u001b[0m",
      "\u001b[1;31mNameError\u001b[0m                                 Traceback (most recent call last)",
      "Cell \u001b[1;32mIn[19], line 1\u001b[0m\n\u001b[1;32m----> 1\u001b[0m \u001b[43maccess_token\u001b[49m\n",
      "\u001b[1;31mNameError\u001b[0m: name 'access_token' is not defined"
     ]
    }
   ],
   "source": [
    "access_token"
   ]
  },
  {
   "cell_type": "code",
   "execution_count": 18,
   "metadata": {},
   "outputs": [
    {
     "ename": "NameError",
     "evalue": "name 'access_token' is not defined",
     "output_type": "error",
     "traceback": [
      "\u001b[1;31m---------------------------------------------------------------------------\u001b[0m",
      "\u001b[1;31mNameError\u001b[0m                                 Traceback (most recent call last)",
      "Cell \u001b[1;32mIn[18], line 1\u001b[0m\n\u001b[1;32m----> 1\u001b[0m \u001b[43maccess_token\u001b[49m\n",
      "\u001b[1;31mNameError\u001b[0m: name 'access_token' is not defined"
     ]
    }
   ],
   "source": [
    "access_token"
   ]
  },
  {
   "cell_type": "code",
   "execution_count": 40,
   "metadata": {},
   "outputs": [],
   "source": [
    "def save_measurements_to_csv(measurements, device_id, module_id):\n",
    "    # Remove \":\" from device and module IDs for filename\n",
    "    device_id_filename = device_id.replace(\":\", \"\")\n",
    "    module_id_filename = module_id.replace(\":\", \"\")\n",
    "    \n",
    "    filename = f'{device_id_filename}_{module_id_filename}_measurements.csv'\n",
    "    \n",
    "    with open(filename, 'a', newline='') as csvfile:\n",
    "        fieldnames = ['acquisition_time', 'temperature', 'humidity', 'pressure']\n",
    "        writer = csv.DictWriter(csvfile, fieldnames=fieldnames)\n",
    "\n",
    "        # Skip writing header if file is not empty\n",
    "        if csvfile.tell() == 0:\n",
    "            writer.writeheader()\n",
    "\n",
    "        acquisition_time = measurements['body'][0]['beg_time']\n",
    "        step_time = 86400\n",
    "        # step_time = measurements['body'][0]['step_time']\n",
    "        for entry in measurements['body']:\n",
    "            for value in entry['value']:\n",
    "                row = {\n",
    "                    'acquisition_time': datetime.utcfromtimestamp(acquisition_time).strftime('%Y%m%d%H%M'),\n",
    "                    'temperature': value[0],\n",
    "                    'humidity': value[1],\n",
    "                    'pressure': value[2]\n",
    "                }\n",
    "                writer.writerow(row)\n",
    "                acquisition_time += step_time\n"
   ]
  },
  {
   "cell_type": "code",
   "execution_count": 41,
   "metadata": {},
   "outputs": [
    {
     "ename": "IndexError",
     "evalue": "list index out of range",
     "output_type": "error",
     "traceback": [
      "\u001b[1;31m---------------------------------------------------------------------------\u001b[0m",
      "\u001b[1;31mIndexError\u001b[0m                                Traceback (most recent call last)",
      "Cell \u001b[1;32mIn[41], line 9\u001b[0m\n\u001b[0;32m      6\u001b[0m limit \u001b[38;5;241m=\u001b[39m \u001b[38;5;241m1024\u001b[39m\n\u001b[0;32m      8\u001b[0m \u001b[38;5;66;03m# Fetch historical measurements for the current device ID and module ID pair\u001b[39;00m\n\u001b[1;32m----> 9\u001b[0m measurements \u001b[38;5;241m=\u001b[39m \u001b[43mget_historical_measurements_batch\u001b[49m\u001b[43m(\u001b[49m\u001b[43maccess_token\u001b[49m\u001b[43m,\u001b[49m\u001b[43m \u001b[49m\u001b[43mdevice_id\u001b[49m\u001b[43m,\u001b[49m\u001b[43m \u001b[49m\u001b[43mmodule_id\u001b[49m\u001b[43m,\u001b[49m\u001b[43m \u001b[49m\u001b[43mscale\u001b[49m\u001b[43m,\u001b[49m\u001b[43m \u001b[49m\u001b[43mtypes\u001b[49m\u001b[43m,\u001b[49m\u001b[43m \u001b[49m\u001b[43mdate_begin\u001b[49m\u001b[43m,\u001b[49m\u001b[43m \u001b[49m\u001b[43mdate_end\u001b[49m\u001b[43m,\u001b[49m\u001b[43m \u001b[49m\u001b[43mlimit\u001b[49m\u001b[43m)\u001b[49m\n\u001b[0;32m     10\u001b[0m \u001b[38;5;28mprint\u001b[39m(\u001b[38;5;124mf\u001b[39m\u001b[38;5;124m'\u001b[39m\u001b[38;5;124m--------Temperature data for \u001b[39m\u001b[38;5;132;01m{\u001b[39;00mdevice_id\u001b[38;5;132;01m}\u001b[39;00m\u001b[38;5;124m, \u001b[39m\u001b[38;5;132;01m{\u001b[39;00mmodule_id\u001b[38;5;132;01m}\u001b[39;00m\u001b[38;5;124m completely downloaded----------\u001b[39m\u001b[38;5;124m'\u001b[39m)\n",
      "Cell \u001b[1;32mIn[31], line 21\u001b[0m, in \u001b[0;36mget_historical_measurements_batch\u001b[1;34m(access_token, device_id, module_id, scale, types, date_begin, date_end, limit)\u001b[0m\n\u001b[0;32m     17\u001b[0m date_begin \u001b[38;5;241m=\u001b[39m last_timestamp \u001b[38;5;241m+\u001b[39m \u001b[38;5;241m86400\u001b[39m\n\u001b[0;32m     18\u001b[0m \u001b[38;5;66;03m# date_begin = last_timestamp + measurements[\"body\"][-1][\"step_time\"]\u001b[39;00m\n\u001b[0;32m     19\u001b[0m \n\u001b[0;32m     20\u001b[0m \u001b[38;5;66;03m# Save measurements to CSV file\u001b[39;00m\n\u001b[1;32m---> 21\u001b[0m \u001b[43msave_measurements_to_csv\u001b[49m\u001b[43m(\u001b[49m\u001b[43mmeasurements\u001b[49m\u001b[43m,\u001b[49m\u001b[43m \u001b[49m\u001b[43mdevice_id\u001b[49m\u001b[43m,\u001b[49m\u001b[43m \u001b[49m\u001b[43mmodule_id\u001b[49m\u001b[43m)\u001b[49m\n\u001b[0;32m     23\u001b[0m \u001b[38;5;66;03m# Introduce a delay to avoid hitting rate limits\u001b[39;00m\n\u001b[0;32m     24\u001b[0m time\u001b[38;5;241m.\u001b[39msleep(\u001b[38;5;241m1\u001b[39m)\n",
      "Cell \u001b[1;32mIn[40], line 24\u001b[0m, in \u001b[0;36msave_measurements_to_csv\u001b[1;34m(measurements, device_id, module_id)\u001b[0m\n\u001b[0;32m     19\u001b[0m \u001b[38;5;28;01mfor\u001b[39;00m entry \u001b[38;5;129;01min\u001b[39;00m measurements[\u001b[38;5;124m'\u001b[39m\u001b[38;5;124mbody\u001b[39m\u001b[38;5;124m'\u001b[39m]:\n\u001b[0;32m     20\u001b[0m     \u001b[38;5;28;01mfor\u001b[39;00m value \u001b[38;5;129;01min\u001b[39;00m entry[\u001b[38;5;124m'\u001b[39m\u001b[38;5;124mvalue\u001b[39m\u001b[38;5;124m'\u001b[39m]:\n\u001b[0;32m     21\u001b[0m         row \u001b[38;5;241m=\u001b[39m {\n\u001b[0;32m     22\u001b[0m             \u001b[38;5;124m'\u001b[39m\u001b[38;5;124macquisition_time\u001b[39m\u001b[38;5;124m'\u001b[39m: datetime\u001b[38;5;241m.\u001b[39mutcfromtimestamp(acquisition_time)\u001b[38;5;241m.\u001b[39mstrftime(\u001b[38;5;124m'\u001b[39m\u001b[38;5;124m%\u001b[39m\u001b[38;5;124mY\u001b[39m\u001b[38;5;124m%\u001b[39m\u001b[38;5;124mm\u001b[39m\u001b[38;5;132;01m%d\u001b[39;00m\u001b[38;5;124m%\u001b[39m\u001b[38;5;124mH\u001b[39m\u001b[38;5;124m%\u001b[39m\u001b[38;5;124mM\u001b[39m\u001b[38;5;124m'\u001b[39m),\n\u001b[0;32m     23\u001b[0m             \u001b[38;5;124m'\u001b[39m\u001b[38;5;124mtemperature\u001b[39m\u001b[38;5;124m'\u001b[39m: value[\u001b[38;5;241m0\u001b[39m],\n\u001b[1;32m---> 24\u001b[0m             \u001b[38;5;124m'\u001b[39m\u001b[38;5;124mhumidity\u001b[39m\u001b[38;5;124m'\u001b[39m: \u001b[43mvalue\u001b[49m\u001b[43m[\u001b[49m\u001b[38;5;241;43m1\u001b[39;49m\u001b[43m]\u001b[49m,\n\u001b[0;32m     25\u001b[0m             \u001b[38;5;124m'\u001b[39m\u001b[38;5;124mpressure\u001b[39m\u001b[38;5;124m'\u001b[39m: value[\u001b[38;5;241m2\u001b[39m]\n\u001b[0;32m     26\u001b[0m         }\n\u001b[0;32m     27\u001b[0m         writer\u001b[38;5;241m.\u001b[39mwriterow(row)\n\u001b[0;32m     28\u001b[0m         acquisition_time \u001b[38;5;241m+\u001b[39m\u001b[38;5;241m=\u001b[39m step_time\n",
      "\u001b[1;31mIndexError\u001b[0m: list index out of range"
     ]
    }
   ],
   "source": [
    "for device_id, module_id in device_module_ids:\n",
    "        scale = \"1day\"  # Change according to your requirement\n",
    "        types = \"Temperature\"  # Fetch only temperature data\n",
    "        date_begin = convert_to_unix_timestamp(start_date_stamp, start_time_stamp)\n",
    "        date_end = convert_to_unix_timestamp(end_date_stamp, end_time_stamp)\n",
    "        limit = 1024\n",
    "\n",
    "        # Fetch historical measurements for the current device ID and module ID pair\n",
    "        measurements = get_historical_measurements_batch(access_token, device_id, module_id, scale, types, date_begin, date_end, limit)\n",
    "        print(f'--------Temperature data for {device_id}, {module_id} completely downloaded----------')"
   ]
  }
 ],
 "metadata": {
  "kernelspec": {
   "display_name": "geo",
   "language": "python",
   "name": "python3"
  },
  "language_info": {
   "codemirror_mode": {
    "name": "ipython",
    "version": 3
   },
   "file_extension": ".py",
   "mimetype": "text/x-python",
   "name": "python",
   "nbconvert_exporter": "python",
   "pygments_lexer": "ipython3",
   "version": "3.9.19"
  }
 },
 "nbformat": 4,
 "nbformat_minor": 2
}
